{
 "cells": [
  {
   "cell_type": "code",
   "execution_count": 276,
   "metadata": {},
   "outputs": [
    {
     "name": "stdout",
     "output_type": "stream",
     "text": [
      "The autoreload extension is already loaded. To reload it, use:\n",
      "  %reload_ext autoreload\n"
     ]
    }
   ],
   "source": [
    "%load_ext autoreload\n",
    "%autoreload 2\n",
    "\n",
    "from mcts import * \n",
    "from tictactoe import *\n",
    "from utils import *\n",
    "import numpy as np\n",
    "import random\n",
    "import collections"
   ]
  },
  {
   "cell_type": "markdown",
   "metadata": {},
   "source": [
    "### run from initial state"
   ]
  },
  {
   "cell_type": "code",
   "execution_count": 306,
   "metadata": {},
   "outputs": [
    {
     "data": {
      "text/plain": [
       "'mcts_tree_visualization.png'"
      ]
     },
     "execution_count": 306,
     "metadata": {},
     "output_type": "execute_result"
    }
   ],
   "source": [
    "board = np.array([[ 1 , 1 , 0 ], \n",
    "                  [-1 , 0 , 0 ], \n",
    "                  [ 0 , 0 , 0 ]]) \n",
    "\n",
    "state = GameState(board, player = -1)\n",
    "root = MCTSNode(state)\n",
    "agent = MCTSAgent(root)\n",
    "\n",
    "next = agent.run_mcts(1000)\n",
    "dot = visualize_mcts_tree(root)\n",
    "dot.render('mcts_tree_visualization', format='png', view=True)\n"
   ]
  },
  {
   "cell_type": "markdown",
   "metadata": {},
   "source": [
    "### user v. mcts bot"
   ]
  },
  {
   "cell_type": "code",
   "execution_count": 305,
   "metadata": {},
   "outputs": [
    {
     "name": "stdout",
     "output_type": "stream",
     "text": [
      "\n",
      "-  -  -\n",
      "\n",
      "-  -  -\n",
      "\n",
      "-  -  -\n",
      "----------\n"
     ]
    },
    {
     "name": "stdout",
     "output_type": "stream",
     "text": [
      "\n",
      "X  O  -\n",
      "\n",
      "-  -  -\n",
      "\n",
      "-  -  -\n",
      "----------\n",
      "\n",
      "X  O  -\n",
      "\n",
      "X  -  -\n",
      "\n",
      "-  -  O\n",
      "----------\n",
      "\n",
      "X  O  X\n",
      "\n",
      "X  O  -\n",
      "\n",
      "-  -  O\n",
      "----------\n",
      "\n",
      "X  O  X\n",
      "\n",
      "X  O  X\n",
      "\n",
      "O  -  O\n",
      "----------\n"
     ]
    },
    {
     "ename": "ValueError",
     "evalue": "not enough values to unpack (expected 2, got 1)",
     "output_type": "error",
     "traceback": [
      "\u001b[0;31m---------------------------------------------------------------------------\u001b[0m",
      "\u001b[0;31mValueError\u001b[0m                                Traceback (most recent call last)",
      "Cell \u001b[0;32mIn[305], line 9\u001b[0m\n\u001b[1;32m      7\u001b[0m \u001b[38;5;28mprint\u001b[39m(\u001b[38;5;124m'\u001b[39m\u001b[38;5;124m----------\u001b[39m\u001b[38;5;124m'\u001b[39m)\n\u001b[1;32m      8\u001b[0m action \u001b[38;5;241m=\u001b[39m \u001b[38;5;28minput\u001b[39m(\u001b[38;5;124m'\u001b[39m\u001b[38;5;124mEnter the action in the format i,j: \u001b[39m\u001b[38;5;124m'\u001b[39m)\n\u001b[0;32m----> 9\u001b[0m i, j \u001b[38;5;241m=\u001b[39m action\u001b[38;5;241m.\u001b[39msplit(\u001b[38;5;124m'\u001b[39m\u001b[38;5;124m,\u001b[39m\u001b[38;5;124m'\u001b[39m)\n\u001b[1;32m     10\u001b[0m i, j \u001b[38;5;241m=\u001b[39m \u001b[38;5;28mint\u001b[39m(i), \u001b[38;5;28mint\u001b[39m(j)\n\u001b[1;32m     12\u001b[0m \u001b[38;5;28;01mif\u001b[39;00m board[i,j] \u001b[38;5;241m!=\u001b[39m \u001b[38;5;241m0\u001b[39m:\n",
      "\u001b[0;31mValueError\u001b[0m: not enough values to unpack (expected 2, got 1)"
     ]
    }
   ],
   "source": [
    "board = np.zeros((3, 3))\n",
    "user = 1\n",
    "state = GameState(board, user)\n",
    "while not state.is_terminal():\n",
    "    # get user input \n",
    "    state.print_board()\n",
    "    print('----------')\n",
    "    action = input('Enter the action in the format i,j: ')\n",
    "    i, j = action.split(',')\n",
    "    i, j = int(i), int(j)\n",
    "\n",
    "    if board[i,j] != 0:\n",
    "        print('Invalid move')\n",
    "\n",
    "    state = state.take_action((i,j))\n",
    "    if state.is_terminal():\n",
    "        break\n",
    "\n",
    "    # get agent response\n",
    "    node = MCTSNode(state)\n",
    "    agent = MCTSAgent(node)\n",
    "    node = agent.step(node, 10000, auto_response=False)\n",
    "    state = node.state\n",
    "state.print_board()\n",
    "print(state.get_winner())"
   ]
  }
 ],
 "metadata": {
  "kernelspec": {
   "display_name": "mcts-rqnENYvk-py3.9",
   "language": "python",
   "name": "python3"
  },
  "language_info": {
   "codemirror_mode": {
    "name": "ipython",
    "version": 3
   },
   "file_extension": ".py",
   "mimetype": "text/x-python",
   "name": "python",
   "nbconvert_exporter": "python",
   "pygments_lexer": "ipython3",
   "version": "3.9.18"
  }
 },
 "nbformat": 4,
 "nbformat_minor": 2
}
