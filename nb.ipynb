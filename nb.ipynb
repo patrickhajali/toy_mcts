{
 "cells": [
  {
   "cell_type": "code",
   "execution_count": 307,
   "metadata": {},
   "outputs": [
    {
     "name": "stdout",
     "output_type": "stream",
     "text": [
      "The autoreload extension is already loaded. To reload it, use:\n",
      "  %reload_ext autoreload\n"
     ]
    }
   ],
   "source": [
    "%load_ext autoreload\n",
    "%autoreload 2\n",
    "\n",
    "from mcts import * \n",
    "from tictactoe import *\n",
    "from utils import *\n",
    "import numpy as np\n",
    "import random\n",
    "import collections"
   ]
  },
  {
   "cell_type": "markdown",
   "metadata": {},
   "source": [
    "### run from initial state"
   ]
  },
  {
   "cell_type": "code",
   "execution_count": 308,
   "metadata": {},
   "outputs": [
    {
     "data": {
      "text/plain": [
       "'mcts_tree_visualization.png'"
      ]
     },
     "execution_count": 308,
     "metadata": {},
     "output_type": "execute_result"
    }
   ],
   "source": [
    "board = np.array([[ 1 , 1 , 0 ], \n",
    "                  [-1 , 0 , 0 ], \n",
    "                  [ 0 , 0 , 0 ]]) \n",
    "\n",
    "state = GameState(board, player = -1)\n",
    "root = MCTSNode(state)\n",
    "agent = MCTSAgent(root)\n",
    "\n",
    "next = agent.run_mcts(1000)\n",
    "dot = visualize_mcts_tree(root)\n",
    "dot.render('mcts_tree_visualization', format='png', view=True)\n"
   ]
  }
 ],
 "metadata": {
  "kernelspec": {
   "display_name": "mcts-rqnENYvk-py3.9",
   "language": "python",
   "name": "python3"
  },
  "language_info": {
   "codemirror_mode": {
    "name": "ipython",
    "version": 3
   },
   "file_extension": ".py",
   "mimetype": "text/x-python",
   "name": "python",
   "nbconvert_exporter": "python",
   "pygments_lexer": "ipython3",
   "version": "3.9.18"
  }
 },
 "nbformat": 4,
 "nbformat_minor": 2
}
