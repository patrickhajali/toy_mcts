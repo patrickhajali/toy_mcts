{
 "cells": [
  {
   "cell_type": "code",
   "execution_count": 276,
   "metadata": {},
   "outputs": [
    {
     "name": "stdout",
     "output_type": "stream",
     "text": [
      "The autoreload extension is already loaded. To reload it, use:\n",
      "  %reload_ext autoreload\n"
     ]
    }
   ],
   "source": [
    "%load_ext autoreload\n",
    "%autoreload 2\n",
    "\n",
    "from mcts import * \n",
    "from tictactoe import *\n",
    "from utils import *\n",
    "import numpy as np\n",
    "import random\n",
    "import collections"
   ]
  },
  {
   "cell_type": "code",
   "execution_count": 280,
   "metadata": {},
   "outputs": [],
   "source": [
    "board = np.array([[1,1,0], [-1, 0, 0], [0, 0, 0]]) #np.zeros((3,3))"
   ]
  },
  {
   "cell_type": "code",
   "execution_count": 286,
   "metadata": {},
   "outputs": [
    {
     "data": {
      "text/plain": [
       "'mcts_tree_visualization.png'"
      ]
     },
     "execution_count": 286,
     "metadata": {},
     "output_type": "execute_result"
    }
   ],
   "source": [
    "state = GameState(board, player = -1)\n",
    "root = MCTSNode(state)\n",
    "agent = MCTSAgent(root)\n",
    "\n",
    "next = agent.run_mcts(100)\n",
    "dot = visualize_mcts_tree(root)\n",
    "dot.render('mcts_tree_visualization', format='png', view=True)\n"
   ]
  },
  {
   "cell_type": "code",
   "execution_count": 15,
   "metadata": {},
   "outputs": [
    {
     "name": "stdout",
     "output_type": "stream",
     "text": [
      "\n",
      "-  -  -\n",
      "\n",
      "-  -  -\n",
      "\n",
      "-  -  -\n",
      "----------\n"
     ]
    },
    {
     "name": "stdout",
     "output_type": "stream",
     "text": [
      "\n",
      "X  O  -\n",
      "\n",
      "-  -  -\n",
      "\n",
      "-  -  -\n",
      "----------\n",
      "\n",
      "X  O  -\n",
      "\n",
      "-  X  -\n",
      "\n",
      "-  O  -\n",
      "----------\n",
      "\n",
      "X  X  -\n",
      "\n",
      "-  X  -\n",
      "\n",
      "O  O  -\n",
      "----------\n"
     ]
    },
    {
     "ename": "ValueError",
     "evalue": "not enough values to unpack (expected 2, got 1)",
     "output_type": "error",
     "traceback": [
      "\u001b[0;31m---------------------------------------------------------------------------\u001b[0m",
      "\u001b[0;31mValueError\u001b[0m                                Traceback (most recent call last)",
      "Cell \u001b[0;32mIn[15], line 12\u001b[0m\n\u001b[1;32m     10\u001b[0m \u001b[38;5;28mprint\u001b[39m(\u001b[38;5;124m'\u001b[39m\u001b[38;5;124m----------\u001b[39m\u001b[38;5;124m'\u001b[39m)\n\u001b[1;32m     11\u001b[0m action \u001b[38;5;241m=\u001b[39m \u001b[38;5;28minput\u001b[39m(\u001b[38;5;124m'\u001b[39m\u001b[38;5;124mEnter the action in the format i,j: \u001b[39m\u001b[38;5;124m'\u001b[39m)\n\u001b[0;32m---> 12\u001b[0m i, j \u001b[38;5;241m=\u001b[39m action\u001b[38;5;241m.\u001b[39msplit(\u001b[38;5;124m'\u001b[39m\u001b[38;5;124m,\u001b[39m\u001b[38;5;124m'\u001b[39m)\n\u001b[1;32m     13\u001b[0m i, j \u001b[38;5;241m=\u001b[39m \u001b[38;5;28mint\u001b[39m(i), \u001b[38;5;28mint\u001b[39m(j)\n\u001b[1;32m     15\u001b[0m \u001b[38;5;28;01mif\u001b[39;00m board[i,j] \u001b[38;5;241m!=\u001b[39m \u001b[38;5;241m0\u001b[39m:\n",
      "\u001b[0;31mValueError\u001b[0m: not enough values to unpack (expected 2, got 1)"
     ]
    }
   ],
   "source": [
    "board = np.zeros((3, 3))\n",
    "user = 1\n",
    "\n",
    "state = GameState(board, user)\n",
    "\n",
    "while state.is_terminal() == False:\n",
    "    # get user input \n",
    "    state.print_board()\n",
    "    print('----------')\n",
    "    action = input('Enter the action in the format i,j: ')\n",
    "    i, j = action.split(',')\n",
    "    i, j = int(i), int(j)\n",
    "\n",
    "    if board[i,j] != 0:\n",
    "        print('Invalid move')\n",
    "\n",
    "    state = state.take_action((i,j))\n",
    "    if state.is_terminal():\n",
    "        break\n",
    "\n",
    "    # get agent response\n",
    "    root = MCTSNode(state)\n",
    "    agent = MCTSAgent(root)\n",
    "    root = agent.step(1000)\n",
    "\n",
    "    # select the action with the highest value\n",
    "    top_child = agent.selection_policy(root)\n",
    "    state = top_child.state"
   ]
  },
  {
   "cell_type": "code",
   "execution_count": 142,
   "metadata": {},
   "outputs": [
    {
     "name": "stdout",
     "output_type": "stream",
     "text": [
      "0.11764705882352941\n",
      "\n",
      "O  O  -\n",
      "\n",
      "-  X  -\n",
      "\n",
      "-  -  X\n",
      "0.25\n",
      "\n",
      "-  O  O\n",
      "\n",
      "-  X  -\n",
      "\n",
      "-  -  X\n",
      "0.6555023923444976\n",
      "\n",
      "-  O  -\n",
      "\n",
      "O  X  -\n",
      "\n",
      "-  -  X\n",
      "0.6636771300448431\n",
      "\n",
      "-  O  -\n",
      "\n",
      "-  X  O\n",
      "\n",
      "-  -  X\n",
      "0.6071428571428571\n",
      "\n",
      "-  O  -\n",
      "\n",
      "-  X  -\n",
      "\n",
      "O  -  X\n",
      "0.7295597484276729\n",
      "\n",
      "-  O  -\n",
      "\n",
      "-  X  -\n",
      "\n",
      "-  O  X\n"
     ]
    }
   ],
   "source": [
    "for c in root.children: \n",
    "    print(c.value())\n",
    "    c.state.print_board()"
   ]
  },
  {
   "cell_type": "code",
   "execution_count": 140,
   "metadata": {},
   "outputs": [
    {
     "name": "stdout",
     "output_type": "stream",
     "text": [
      "\n",
      "O  O  -\n",
      "\n",
      "-  X  -\n",
      "\n",
      "-  -  X\n",
      "\n",
      "\n",
      "\n",
      "-  O  O\n",
      "\n",
      "-  X  -\n",
      "\n",
      "-  -  X\n",
      "\n",
      "\n",
      "\n",
      "-  O  -\n",
      "\n",
      "O  X  -\n",
      "\n",
      "-  -  X\n",
      "\n",
      "\n",
      "\n",
      "-  O  -\n",
      "\n",
      "-  X  O\n",
      "\n",
      "-  -  X\n",
      "\n",
      "\n",
      "\n",
      "-  O  -\n",
      "\n",
      "-  X  -\n",
      "\n",
      "O  -  X\n",
      "\n",
      "\n",
      "\n",
      "-  O  -\n",
      "\n",
      "-  X  -\n",
      "\n",
      "-  O  X\n",
      "\n",
      "\n"
     ]
    }
   ],
   "source": [
    "for child in root.children:\n",
    "    child.state.print_board()\n",
    "    print('\\n')"
   ]
  },
  {
   "cell_type": "code",
   "execution_count": 141,
   "metadata": {},
   "outputs": [
    {
     "name": "stdout",
     "output_type": "stream",
     "text": [
      "\n",
      "-  O  -\n",
      "\n",
      "-  X  -\n",
      "\n",
      "-  -  X\n",
      "None\n",
      "\n",
      "O  O  -\n",
      "\n",
      "-  X  -\n",
      "\n",
      "-  -  X\n",
      "None\n"
     ]
    },
    {
     "ename": "IndexError",
     "evalue": "list index out of range",
     "output_type": "error",
     "traceback": [
      "\u001b[0;31m---------------------------------------------------------------------------\u001b[0m",
      "\u001b[0;31mIndexError\u001b[0m                                Traceback (most recent call last)",
      "Cell \u001b[0;32mIn[141], line 5\u001b[0m\n\u001b[1;32m      2\u001b[0m     \u001b[38;5;28mprint\u001b[39m(root\u001b[38;5;241m.\u001b[39mstate\u001b[38;5;241m.\u001b[39mprint_board())\n\u001b[1;32m      3\u001b[0m     print_child(root\u001b[38;5;241m.\u001b[39mchildren[\u001b[38;5;241m0\u001b[39m])    \n\u001b[0;32m----> 5\u001b[0m \u001b[43mprint_child\u001b[49m\u001b[43m(\u001b[49m\u001b[43mroot\u001b[49m\u001b[43m)\u001b[49m\n",
      "Cell \u001b[0;32mIn[141], line 3\u001b[0m, in \u001b[0;36mprint_child\u001b[0;34m(root)\u001b[0m\n\u001b[1;32m      1\u001b[0m \u001b[38;5;28;01mdef\u001b[39;00m \u001b[38;5;21mprint_child\u001b[39m(root):\n\u001b[1;32m      2\u001b[0m     \u001b[38;5;28mprint\u001b[39m(root\u001b[38;5;241m.\u001b[39mstate\u001b[38;5;241m.\u001b[39mprint_board())\n\u001b[0;32m----> 3\u001b[0m     \u001b[43mprint_child\u001b[49m\u001b[43m(\u001b[49m\u001b[43mroot\u001b[49m\u001b[38;5;241;43m.\u001b[39;49m\u001b[43mchildren\u001b[49m\u001b[43m[\u001b[49m\u001b[38;5;241;43m0\u001b[39;49m\u001b[43m]\u001b[49m\u001b[43m)\u001b[49m\n",
      "Cell \u001b[0;32mIn[141], line 3\u001b[0m, in \u001b[0;36mprint_child\u001b[0;34m(root)\u001b[0m\n\u001b[1;32m      1\u001b[0m \u001b[38;5;28;01mdef\u001b[39;00m \u001b[38;5;21mprint_child\u001b[39m(root):\n\u001b[1;32m      2\u001b[0m     \u001b[38;5;28mprint\u001b[39m(root\u001b[38;5;241m.\u001b[39mstate\u001b[38;5;241m.\u001b[39mprint_board())\n\u001b[0;32m----> 3\u001b[0m     print_child(\u001b[43mroot\u001b[49m\u001b[38;5;241;43m.\u001b[39;49m\u001b[43mchildren\u001b[49m\u001b[43m[\u001b[49m\u001b[38;5;241;43m0\u001b[39;49m\u001b[43m]\u001b[49m)\n",
      "\u001b[0;31mIndexError\u001b[0m: list index out of range"
     ]
    }
   ],
   "source": [
    "def print_child(root):\n",
    "    print(root.state.print_board())\n",
    "    print_child(root.children[0])    \n",
    "\n",
    "print_child(root)"
   ]
  },
  {
   "cell_type": "code",
   "execution_count": 91,
   "metadata": {},
   "outputs": [
    {
     "data": {
      "text/plain": [
       "[<__main__.MCTSNode at 0x1130d30d0>,\n",
       " <__main__.MCTSNode at 0x11335a0d0>,\n",
       " <__main__.MCTSNode at 0x1133c01c0>]"
      ]
     },
     "execution_count": 91,
     "metadata": {},
     "output_type": "execute_result"
    }
   ],
   "source": [
    "root.children[0].children[0].children[0].children"
   ]
  },
  {
   "cell_type": "code",
   "execution_count": null,
   "metadata": {},
   "outputs": [],
   "source": []
  }
 ],
 "metadata": {
  "kernelspec": {
   "display_name": "mcts-rqnENYvk-py3.9",
   "language": "python",
   "name": "python3"
  },
  "language_info": {
   "codemirror_mode": {
    "name": "ipython",
    "version": 3
   },
   "file_extension": ".py",
   "mimetype": "text/x-python",
   "name": "python",
   "nbconvert_exporter": "python",
   "pygments_lexer": "ipython3",
   "version": "3.9.18"
  }
 },
 "nbformat": 4,
 "nbformat_minor": 2
}
